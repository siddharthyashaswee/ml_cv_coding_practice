{
 "cells": [
  {
   "cell_type": "code",
   "execution_count": 33,
   "id": "a22581c7",
   "metadata": {},
   "outputs": [],
   "source": [
    "import open3d as o3d\n",
    "import numpy as np"
   ]
  },
  {
   "cell_type": "code",
   "execution_count": 34,
   "id": "a652d78b",
   "metadata": {},
   "outputs": [],
   "source": [
    "def normalize_pts(points):\n",
    "    min = points.min(0)\n",
    "    max = points.max(0)\n",
    "    center = points.mean(0)\n",
    "    bb_length = np.linalg.norm(max-min)\n",
    "    points = (points - center)/bb_length\n",
    "    return points"
   ]
  },
  {
   "cell_type": "code",
   "execution_count": 35,
   "id": "46eb6d47",
   "metadata": {},
   "outputs": [
    {
     "name": "stdout",
     "output_type": "stream",
     "text": [
      "(35947, 3) (69451, 3)\n"
     ]
    }
   ],
   "source": [
    "bunny = o3d.data.BunnyMesh()\n",
    "mesh = o3d.io.read_triangle_mesh(bunny.path)\n",
    "points = normalize_pts(np.asarray(mesh.vertices))\n",
    "faces = np.asarray(mesh.triangles)\n",
    "print(points.shape, faces.shape)\n",
    "pcd = o3d.t.geometry.PointCloud(np.array(points, dtype=np.float32))\n",
    "o3d.visualization.draw_geometries([pcd.to_legacy()])"
   ]
  },
  {
   "cell_type": "code",
   "execution_count": 36,
   "id": "eca9a7a7",
   "metadata": {},
   "outputs": [],
   "source": [
    "t_matrix = np.array([[0,-1, 0],\n",
    "                     [1, 0, 0],\n",
    "                     [0, 0, 1]])"
   ]
  },
  {
   "cell_type": "code",
   "execution_count": 37,
   "id": "607df28c",
   "metadata": {},
   "outputs": [],
   "source": [
    "points_rot = points @ t_matrix.T\n",
    "pcd = o3d.t.geometry.PointCloud(np.array(points_rot, dtype=np.float32))\n",
    "o3d.visualization.draw_geometries([pcd.to_legacy()])"
   ]
  }
 ],
 "metadata": {
  "kernelspec": {
   "display_name": "Python 3",
   "language": "python",
   "name": "python3"
  },
  "language_info": {
   "codemirror_mode": {
    "name": "ipython",
    "version": 3
   },
   "file_extension": ".py",
   "mimetype": "text/x-python",
   "name": "python",
   "nbconvert_exporter": "python",
   "pygments_lexer": "ipython3",
   "version": "3.9.18"
  }
 },
 "nbformat": 4,
 "nbformat_minor": 5
}
