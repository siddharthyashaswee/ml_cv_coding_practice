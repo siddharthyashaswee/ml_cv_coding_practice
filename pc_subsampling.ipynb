{
 "cells": [
  {
   "cell_type": "code",
   "execution_count": 67,
   "id": "3f529bb0",
   "metadata": {},
   "outputs": [],
   "source": [
    "import numpy as np\n",
    "import fpsample\n",
    "import open3d as o3d\n",
    "from numba import njit, prange\n",
    "import open3d.core as o3c\n"
   ]
  },
  {
   "cell_type": "code",
   "execution_count": 68,
   "id": "05b98a8f",
   "metadata": {},
   "outputs": [
    {
     "data": {
      "text/plain": [
       "(1000, 3)"
      ]
     },
     "execution_count": 68,
     "metadata": {},
     "output_type": "execute_result"
    }
   ],
   "source": [
    "np.random.seed(42)\n",
    "point_cloud = np.random.uniform(low=0.0, high=1.0, size=(1000, 3))\n",
    "point_cloud.shape"
   ]
  },
  {
   "cell_type": "code",
   "execution_count": 69,
   "id": "d3d6e373",
   "metadata": {},
   "outputs": [
    {
     "data": {
      "text/plain": [
       "(100, 3)"
      ]
     },
     "execution_count": 69,
     "metadata": {},
     "output_type": "execute_result"
    }
   ],
   "source": [
    "#random subsampling\n",
    "idx = np.random.choice(point_cloud.shape[0], size=100, replace=False)\n",
    "random_samples = point_cloud[idx]\n",
    "random_samples.shape"
   ]
  },
  {
   "cell_type": "code",
   "execution_count": 70,
   "id": "35eb0987",
   "metadata": {},
   "outputs": [
    {
     "data": {
      "text/plain": [
       "(100, 3)"
      ]
     },
     "execution_count": 70,
     "metadata": {},
     "output_type": "execute_result"
    }
   ],
   "source": [
    "#fps samples\n",
    "kdline_fps_samples_idx = fpsample.bucket_fps_kdline_sampling(point_cloud, 100, h=3)\n",
    "fps_samples = point_cloud[kdline_fps_samples_idx]\n",
    "fps_samples.shape"
   ]
  },
  {
   "cell_type": "code",
   "execution_count": 71,
   "id": "2d5aca1a",
   "metadata": {},
   "outputs": [],
   "source": [
    "#simple FPS implementation\n",
    "def FPS(point_cloud, k):\n",
    "    start_pt = np.random.randint(0, point_cloud.shape[0])\n",
    "\n",
    "    fps_indices = np.full(k, -1)\n",
    "    fps_indices[0] = start_pt\n",
    "\n",
    "    min_distances = np.full(point_cloud.shape[0], np.inf)\n",
    "\n",
    "    for i in range(1, k):\n",
    "        prev_pt = point_cloud[fps_indices[i-1]]\n",
    "        dist = np.linalg.norm(point_cloud - prev_pt, axis=1)\n",
    "        min_distances = np.minimum(min_distances, dist) \n",
    "        fps_indices[i] = np.argmax(min_distances)\n",
    "    return fps_indices"
   ]
  },
  {
   "cell_type": "code",
   "execution_count": 72,
   "id": "c750bf36",
   "metadata": {},
   "outputs": [],
   "source": [
    "def triangle_area(points):\n",
    "    vec1 = points[1]-points[0]\n",
    "    vec2 = points[2]-points[0]\n",
    "    area = np.cross(vec1, vec2)\n",
    "    return np.linalg.norm(area)*0.5"
   ]
  },
  {
   "cell_type": "code",
   "execution_count": 73,
   "id": "570ac1af",
   "metadata": {},
   "outputs": [
    {
     "data": {
      "text/plain": [
       "((35947, 3), (69451, 3))"
      ]
     },
     "execution_count": 73,
     "metadata": {},
     "output_type": "execute_result"
    }
   ],
   "source": [
    "bunny = o3d.data.BunnyMesh()\n",
    "mesh = o3d.io.read_triangle_mesh(bunny.path)\n",
    "points = np.asarray(mesh.vertices)\n",
    "faces = np.asarray(mesh.triangles)\n",
    "points.shape, faces.shape"
   ]
  },
  {
   "cell_type": "code",
   "execution_count": 74,
   "id": "cca39c5f",
   "metadata": {},
   "outputs": [],
   "source": [
    "faces_area = np.zeros(faces.shape[0])\n",
    "for i in prange(faces.shape[0]):\n",
    "    face = faces[i]\n",
    "    vertices = points[face]\n",
    "    area = triangle_area(vertices)\n",
    "    faces_area[i] = area\n",
    "sum_area = np.sum(faces_area)\n",
    "faces_area = faces_area/ sum_area"
   ]
  },
  {
   "cell_type": "code",
   "execution_count": 75,
   "id": "72ab9256",
   "metadata": {},
   "outputs": [],
   "source": [
    "pcd = mesh.sample_points_uniformly(number_of_points=100000)\n",
    "o3d.visualization.draw_geometries([pcd])"
   ]
  },
  {
   "cell_type": "code",
   "execution_count": 76,
   "id": "3a0dab99",
   "metadata": {},
   "outputs": [
    {
     "data": {
      "text/plain": [
       "(100000, 3)"
      ]
     },
     "execution_count": 76,
     "metadata": {},
     "output_type": "execute_result"
    }
   ],
   "source": [
    "bunny_points = np.asarray(pcd.points)\n",
    "bunny_points.shape"
   ]
  },
  {
   "cell_type": "code",
   "execution_count": 77,
   "id": "a3b142eb",
   "metadata": {},
   "outputs": [],
   "source": [
    "fps_indices = FPS(bunny_points, 2048)\n",
    "fps_samples = bunny_points[fps_indices]\n",
    "\n",
    "pcd = o3d.t.geometry.PointCloud(np.array(fps_samples, dtype=np.float32))\n",
    "o3d.visualization.draw_geometries([pcd.to_legacy()])"
   ]
  },
  {
   "cell_type": "code",
   "execution_count": 78,
   "id": "38a7a87d",
   "metadata": {},
   "outputs": [],
   "source": [
    "kdline_fps_samples_idx = fpsample.bucket_fps_kdline_sampling(bunny_points, 2048, h=9)\n",
    "fps_samples = bunny_points[kdline_fps_samples_idx]\n",
    "pcd = o3d.t.geometry.PointCloud(np.array(fps_samples, dtype=np.float32))\n",
    "o3d.visualization.draw_geometries([pcd.to_legacy()])"
   ]
  },
  {
   "cell_type": "code",
   "execution_count": 79,
   "id": "9b647ab6",
   "metadata": {},
   "outputs": [
    {
     "name": "stdout",
     "output_type": "stream",
     "text": [
      "[[-2.  5.  0.]\n",
      " [-2.  5.  0.]\n",
      " [-3.  6.  1.]\n",
      " [-1.  5.  0.]\n",
      " [-1.  5.  0.]]\n"
     ]
    }
   ],
   "source": [
    "#voxel grid downsampling\n",
    "voxel_size = 0.025\n",
    "v_points = np.floor(points/voxel_size)\n",
    "print(v_points[0:5])\n",
    "voxel_points, indices = np.unique(v_points, axis=0, return_index=True)"
   ]
  },
  {
   "cell_type": "code",
   "execution_count": 80,
   "id": "2dc9df4a",
   "metadata": {},
   "outputs": [],
   "source": [
    "pcd = o3d.t.geometry.PointCloud(np.array(points[indices], dtype=np.float32))\n",
    "o3d.visualization.draw_geometries([pcd.to_legacy()])"
   ]
  }
 ],
 "metadata": {
  "kernelspec": {
   "display_name": "Python 3",
   "language": "python",
   "name": "python3"
  },
  "language_info": {
   "codemirror_mode": {
    "name": "ipython",
    "version": 3
   },
   "file_extension": ".py",
   "mimetype": "text/x-python",
   "name": "python",
   "nbconvert_exporter": "python",
   "pygments_lexer": "ipython3",
   "version": "3.9.18"
  }
 },
 "nbformat": 4,
 "nbformat_minor": 5
}
