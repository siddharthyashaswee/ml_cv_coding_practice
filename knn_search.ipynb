{
 "cells": [
  {
   "cell_type": "code",
   "execution_count": 9,
   "id": "4f580741",
   "metadata": {},
   "outputs": [],
   "source": [
    "import numpy as np\n",
    "import scipy as sc"
   ]
  },
  {
   "cell_type": "code",
   "execution_count": 10,
   "id": "7f6c0d71",
   "metadata": {},
   "outputs": [],
   "source": [
    "pc_1 = np.random.randn(1000,3)\n",
    "pc_2 = np.random.randn(1000,3)"
   ]
  },
  {
   "cell_type": "code",
   "execution_count": 12,
   "id": "c20b05ff",
   "metadata": {},
   "outputs": [],
   "source": [
    "tree = sc.spatial.KDTree(pc_1)\n",
    "result = tree.query(pc_2, k=2)"
   ]
  },
  {
   "cell_type": "code",
   "execution_count": 15,
   "id": "c34ff852",
   "metadata": {},
   "outputs": [
    {
     "data": {
      "text/plain": [
       "((1000, 2), (1000, 2))"
      ]
     },
     "execution_count": 15,
     "metadata": {},
     "output_type": "execute_result"
    }
   ],
   "source": [
    "result[0].shape, result[1].shape #distances, indices of nn"
   ]
  },
  {
   "cell_type": "code",
   "execution_count": 16,
   "id": "9cae85f4",
   "metadata": {},
   "outputs": [
    {
     "data": {
      "text/plain": [
       "array([[374, 822],\n",
       "       [934, 413],\n",
       "       [ 34, 118],\n",
       "       ...,\n",
       "       [917, 670],\n",
       "       [554, 632],\n",
       "       [319, 867]], dtype=int64)"
      ]
     },
     "execution_count": 16,
     "metadata": {},
     "output_type": "execute_result"
    }
   ],
   "source": [
    "result[1]"
   ]
  }
 ],
 "metadata": {
  "kernelspec": {
   "display_name": "Python 3",
   "language": "python",
   "name": "python3"
  },
  "language_info": {
   "codemirror_mode": {
    "name": "ipython",
    "version": 3
   },
   "file_extension": ".py",
   "mimetype": "text/x-python",
   "name": "python",
   "nbconvert_exporter": "python",
   "pygments_lexer": "ipython3",
   "version": "3.9.18"
  }
 },
 "nbformat": 4,
 "nbformat_minor": 5
}
